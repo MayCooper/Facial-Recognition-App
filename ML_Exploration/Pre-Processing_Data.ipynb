{
 "cells": [
  {
   "cell_type": "markdown",
   "id": "d40c231b",
   "metadata": {},
   "source": [
    "# Pre-Processing Data\n",
    "\n",
    "In this script, I'm working on pre-processing my facial recognition image data. To begin, I load my previously saved DataFrame from a pickle file and check its content and structure.\n",
    "\n",
    "I then move onto the pre-processing phase where I first remove any missing values from the DataFrame. Once I've confirmed that no null values remain, I proceed to separate the DataFrame into independent features (X) and dependent labels (y).\n",
    "\n",
    "I modify the labels, converting 'female' and 'male' to a binary representation where 'female' is denoted by 1 and 'male' by 0. This process, known as binary classification mapping, transforms the categorical data into a numerical form, which is easier for machine learning algorithms to process.\n",
    "\n",
    "Next, I normalize the independent features, using min-max scaling, to ensure all values fall between 0 and 1. This step is crucial as it helps my future machine learning models learn and make predictions more effectively.\n",
    "\n",
    "After confirming the normalization and binary mapping are successfully applied, I save these processed data (Xnorm, y_norm) using numpy's np.savez function for future use in a machine learning model."
   ]
  },
  {
   "cell_type": "code",
   "execution_count": 1,
   "id": "467be5ce",
   "metadata": {},
   "outputs": [],
   "source": [
    "import numpy as np\n",
    "import pandas as pd\n",
    "import matplotlib.pyplot as plt\n",
    "import cv2\n",
    "from PIL import Image\n",
    "%matplotlib inline"
   ]
  },
  {
   "cell_type": "code",
   "execution_count": 2,
   "id": "c7378bf8",
   "metadata": {},
   "outputs": [],
   "source": [
    "import pickle\n",
    "\n",
    "# load pickle data\n",
    "df = pickle.load(open(r'W:\\MayCooperStation\\New Documents\\Data Science and ML\\FacialRecognition\\data\\dataframe_images_100_100.pickle','rb'))"
   ]
  },
  {
   "cell_type": "code",
   "execution_count": 3,
   "id": "bc40b900",
   "metadata": {},
   "outputs": [
    {
     "data": {
      "text/html": [
       "<div>\n",
       "<style scoped>\n",
       "    .dataframe tbody tr th:only-of-type {\n",
       "        vertical-align: middle;\n",
       "    }\n",
       "\n",
       "    .dataframe tbody tr th {\n",
       "        vertical-align: top;\n",
       "    }\n",
       "\n",
       "    .dataframe thead th {\n",
       "        text-align: right;\n",
       "    }\n",
       "</style>\n",
       "<table border=\"1\" class=\"dataframe\">\n",
       "  <thead>\n",
       "    <tr style=\"text-align: right;\">\n",
       "      <th></th>\n",
       "      <th>gender</th>\n",
       "      <th>0</th>\n",
       "      <th>1</th>\n",
       "      <th>2</th>\n",
       "      <th>3</th>\n",
       "      <th>4</th>\n",
       "      <th>5</th>\n",
       "      <th>6</th>\n",
       "      <th>7</th>\n",
       "      <th>8</th>\n",
       "      <th>...</th>\n",
       "      <th>9990</th>\n",
       "      <th>9991</th>\n",
       "      <th>9992</th>\n",
       "      <th>9993</th>\n",
       "      <th>9994</th>\n",
       "      <th>9995</th>\n",
       "      <th>9996</th>\n",
       "      <th>9997</th>\n",
       "      <th>9998</th>\n",
       "      <th>9999</th>\n",
       "    </tr>\n",
       "  </thead>\n",
       "  <tbody>\n",
       "    <tr>\n",
       "      <th>0</th>\n",
       "      <td>W:\\MayCooperStation\\New Documents\\Data Science...</td>\n",
       "      <td>188</td>\n",
       "      <td>180</td>\n",
       "      <td>184</td>\n",
       "      <td>188</td>\n",
       "      <td>173</td>\n",
       "      <td>179</td>\n",
       "      <td>192</td>\n",
       "      <td>178</td>\n",
       "      <td>216</td>\n",
       "      <td>...</td>\n",
       "      <td>109</td>\n",
       "      <td>111</td>\n",
       "      <td>115</td>\n",
       "      <td>116</td>\n",
       "      <td>122</td>\n",
       "      <td>116</td>\n",
       "      <td>119</td>\n",
       "      <td>120</td>\n",
       "      <td>117</td>\n",
       "      <td>111</td>\n",
       "    </tr>\n",
       "    <tr>\n",
       "      <th>1</th>\n",
       "      <td>W:\\MayCooperStation\\New Documents\\Data Science...</td>\n",
       "      <td>32</td>\n",
       "      <td>24</td>\n",
       "      <td>32</td>\n",
       "      <td>27</td>\n",
       "      <td>29</td>\n",
       "      <td>29</td>\n",
       "      <td>29</td>\n",
       "      <td>32</td>\n",
       "      <td>36</td>\n",
       "      <td>...</td>\n",
       "      <td>58</td>\n",
       "      <td>47</td>\n",
       "      <td>27</td>\n",
       "      <td>33</td>\n",
       "      <td>22</td>\n",
       "      <td>28</td>\n",
       "      <td>22</td>\n",
       "      <td>36</td>\n",
       "      <td>62</td>\n",
       "      <td>17</td>\n",
       "    </tr>\n",
       "    <tr>\n",
       "      <th>2</th>\n",
       "      <td>W:\\MayCooperStation\\New Documents\\Data Science...</td>\n",
       "      <td>22</td>\n",
       "      <td>30</td>\n",
       "      <td>39</td>\n",
       "      <td>36</td>\n",
       "      <td>30</td>\n",
       "      <td>61</td>\n",
       "      <td>11</td>\n",
       "      <td>17</td>\n",
       "      <td>10</td>\n",
       "      <td>...</td>\n",
       "      <td>156</td>\n",
       "      <td>171</td>\n",
       "      <td>177</td>\n",
       "      <td>186</td>\n",
       "      <td>176</td>\n",
       "      <td>185</td>\n",
       "      <td>186</td>\n",
       "      <td>190</td>\n",
       "      <td>177</td>\n",
       "      <td>177</td>\n",
       "    </tr>\n",
       "    <tr>\n",
       "      <th>3</th>\n",
       "      <td>W:\\MayCooperStation\\New Documents\\Data Science...</td>\n",
       "      <td>35</td>\n",
       "      <td>35</td>\n",
       "      <td>35</td>\n",
       "      <td>35</td>\n",
       "      <td>35</td>\n",
       "      <td>35</td>\n",
       "      <td>35</td>\n",
       "      <td>35</td>\n",
       "      <td>35</td>\n",
       "      <td>...</td>\n",
       "      <td>75</td>\n",
       "      <td>82</td>\n",
       "      <td>90</td>\n",
       "      <td>92</td>\n",
       "      <td>86</td>\n",
       "      <td>70</td>\n",
       "      <td>89</td>\n",
       "      <td>84</td>\n",
       "      <td>84</td>\n",
       "      <td>74</td>\n",
       "    </tr>\n",
       "    <tr>\n",
       "      <th>4</th>\n",
       "      <td>W:\\MayCooperStation\\New Documents\\Data Science...</td>\n",
       "      <td>86</td>\n",
       "      <td>86</td>\n",
       "      <td>71</td>\n",
       "      <td>54</td>\n",
       "      <td>45</td>\n",
       "      <td>49</td>\n",
       "      <td>33</td>\n",
       "      <td>20</td>\n",
       "      <td>18</td>\n",
       "      <td>...</td>\n",
       "      <td>35</td>\n",
       "      <td>34</td>\n",
       "      <td>32</td>\n",
       "      <td>32</td>\n",
       "      <td>30</td>\n",
       "      <td>32</td>\n",
       "      <td>34</td>\n",
       "      <td>34</td>\n",
       "      <td>33</td>\n",
       "      <td>30</td>\n",
       "    </tr>\n",
       "  </tbody>\n",
       "</table>\n",
       "<p>5 rows × 10001 columns</p>\n",
       "</div>"
      ],
      "text/plain": [
       "                                              gender    0    1    2    3    4  \\\n",
       "0  W:\\MayCooperStation\\New Documents\\Data Science...  188  180  184  188  173   \n",
       "1  W:\\MayCooperStation\\New Documents\\Data Science...   32   24   32   27   29   \n",
       "2  W:\\MayCooperStation\\New Documents\\Data Science...   22   30   39   36   30   \n",
       "3  W:\\MayCooperStation\\New Documents\\Data Science...   35   35   35   35   35   \n",
       "4  W:\\MayCooperStation\\New Documents\\Data Science...   86   86   71   54   45   \n",
       "\n",
       "     5    6    7    8  ...  9990  9991  9992  9993  9994  9995  9996  9997  \\\n",
       "0  179  192  178  216  ...   109   111   115   116   122   116   119   120   \n",
       "1   29   29   32   36  ...    58    47    27    33    22    28    22    36   \n",
       "2   61   11   17   10  ...   156   171   177   186   176   185   186   190   \n",
       "3   35   35   35   35  ...    75    82    90    92    86    70    89    84   \n",
       "4   49   33   20   18  ...    35    34    32    32    30    32    34    34   \n",
       "\n",
       "   9998  9999  \n",
       "0   117   111  \n",
       "1    62    17  \n",
       "2   177   177  \n",
       "3    84    74  \n",
       "4    33    30  \n",
       "\n",
       "[5 rows x 10001 columns]"
      ]
     },
     "execution_count": 3,
     "metadata": {},
     "output_type": "execute_result"
    }
   ],
   "source": [
    "df.head()"
   ]
  },
  {
   "cell_type": "code",
   "execution_count": 4,
   "id": "5149ef8a",
   "metadata": {},
   "outputs": [
    {
     "name": "stdout",
     "output_type": "stream",
     "text": [
      "<class 'pandas.core.frame.DataFrame'>\n",
      "Index: 5460 entries, 0 to 6057\n",
      "Columns: 10001 entries, gender to 9999\n",
      "dtypes: object(1), uint8(10000)\n",
      "memory usage: 52.2+ MB\n"
     ]
    }
   ],
   "source": [
    "df.info()"
   ]
  },
  {
   "cell_type": "markdown",
   "id": "24482125",
   "metadata": {},
   "source": [
    "# Data Preprocessing\n",
    "- Remove missing\n",
    "- Data Normalization (min max scalling)"
   ]
  },
  {
   "cell_type": "code",
   "execution_count": 5,
   "id": "9c9cd352",
   "metadata": {},
   "outputs": [],
   "source": [
    "# removing missing values\n",
    "df.dropna(axis=0,inplace=True)"
   ]
  },
  {
   "cell_type": "code",
   "execution_count": 6,
   "id": "d75eaa44",
   "metadata": {},
   "outputs": [
    {
     "data": {
      "text/plain": [
       "gender    0\n",
       "0         0\n",
       "1         0\n",
       "2         0\n",
       "3         0\n",
       "         ..\n",
       "9995      0\n",
       "9996      0\n",
       "9997      0\n",
       "9998      0\n",
       "9999      0\n",
       "Length: 10001, dtype: int64"
      ]
     },
     "execution_count": 6,
     "metadata": {},
     "output_type": "execute_result"
    }
   ],
   "source": [
    "df.isnull().sum()"
   ]
  },
  {
   "cell_type": "code",
   "execution_count": 7,
   "id": "cc6de9e8",
   "metadata": {},
   "outputs": [],
   "source": [
    "# split the into two parts\n",
    "X = df.iloc[:,1:].values # inpendent features\n",
    "y = df.iloc[:,0].values # dependent"
   ]
  },
  {
   "cell_type": "code",
   "execution_count": 8,
   "id": "627307e0",
   "metadata": {},
   "outputs": [],
   "source": [
    "# Extract gender from the path\n",
    "y = np.array([i.split('\\\\')[-1] for i in y])"
   ]
  },
  {
   "cell_type": "code",
   "execution_count": 9,
   "id": "dab291de",
   "metadata": {},
   "outputs": [
    {
     "name": "stdout",
     "output_type": "stream",
     "text": [
      "['female' 'male']\n"
     ]
    }
   ],
   "source": [
    "print(np.unique(y)) # Should print 'female' and 'male'"
   ]
  },
  {
   "cell_type": "code",
   "execution_count": 10,
   "id": "152f445a",
   "metadata": {},
   "outputs": [],
   "source": [
    "# Binary classification mapping \n",
    "# female = 1, male = 0\n",
    "y_norm = np.where(y=='female',1,0)"
   ]
  },
  {
   "cell_type": "code",
   "execution_count": 11,
   "id": "cd0894d2",
   "metadata": {},
   "outputs": [
    {
     "name": "stdout",
     "output_type": "stream",
     "text": [
      "[0 1]\n"
     ]
    }
   ],
   "source": [
    "print(np.unique(y_norm)) # Should print '0' and '1'"
   ]
  },
  {
   "cell_type": "code",
   "execution_count": 12,
   "id": "d0b51720",
   "metadata": {},
   "outputs": [
    {
     "data": {
      "text/plain": [
       "(5460, 10000)"
      ]
     },
     "execution_count": 12,
     "metadata": {},
     "output_type": "execute_result"
    }
   ],
   "source": [
    "X.shape"
   ]
  },
  {
   "cell_type": "markdown",
   "id": "70c37ab2",
   "metadata": {},
   "source": [
    "# Min Max Scalling \n",
    "## Xnorm = $\\frac {x - minValue} { maxValue - minValue}$\n",
    "\n",
    "The formula calculates the normalized value Xnorm by subtracting the minimum value from x to determine the distance from the minimum. Then, it divides this distance by the range, which is the difference between the maximum and minimum values. This ensures that the normalized value falls within the range of 0 to 1."
   ]
  },
  {
   "cell_type": "code",
   "execution_count": 13,
   "id": "7efbd023",
   "metadata": {},
   "outputs": [
    {
     "data": {
      "text/plain": [
       "(0, 255)"
      ]
     },
     "execution_count": 13,
     "metadata": {},
     "output_type": "execute_result"
    }
   ],
   "source": [
    "X.min() , X.max()"
   ]
  },
  {
   "cell_type": "code",
   "execution_count": 14,
   "id": "138c99f5",
   "metadata": {},
   "outputs": [],
   "source": [
    "Xnorm = X / X.max()"
   ]
  },
  {
   "cell_type": "code",
   "execution_count": 15,
   "id": "aa1f4d7c",
   "metadata": {},
   "outputs": [
    {
     "data": {
      "text/plain": [
       "array([[0.7372549 , 0.70588235, 0.72156863, ..., 0.47058824, 0.45882353,\n",
       "        0.43529412],\n",
       "       [0.1254902 , 0.09411765, 0.1254902 , ..., 0.14117647, 0.24313725,\n",
       "        0.06666667],\n",
       "       [0.08627451, 0.11764706, 0.15294118, ..., 0.74509804, 0.69411765,\n",
       "        0.69411765],\n",
       "       ...,\n",
       "       [0.09803922, 0.09803922, 0.10196078, ..., 0.11764706, 0.12156863,\n",
       "        0.13333333],\n",
       "       [0.08235294, 0.10588235, 0.12156863, ..., 0.07843137, 0.08627451,\n",
       "        0.09803922],\n",
       "       [0.01568627, 0.01176471, 0.00784314, ..., 0.35294118, 0.35294118,\n",
       "        0.36470588]])"
      ]
     },
     "execution_count": 15,
     "metadata": {},
     "output_type": "execute_result"
    }
   ],
   "source": [
    "#all values are in the range between 0 and 1 \n",
    "Xnorm"
   ]
  },
  {
   "cell_type": "code",
   "execution_count": 17,
   "id": "e7e3d1b0",
   "metadata": {},
   "outputs": [
    {
     "data": {
      "text/plain": [
       "array(['female', 'female', 'female', ..., 'male', 'male', 'male'],\n",
       "      dtype='<U6')"
      ]
     },
     "execution_count": 17,
     "metadata": {},
     "output_type": "execute_result"
    }
   ],
   "source": [
    "y"
   ]
  },
  {
   "cell_type": "code",
   "execution_count": 18,
   "id": "dbbe5da4",
   "metadata": {},
   "outputs": [
    {
     "data": {
      "text/plain": [
       "(5460, 10000)"
      ]
     },
     "execution_count": 18,
     "metadata": {},
     "output_type": "execute_result"
    }
   ],
   "source": [
    "Xnorm.shape"
   ]
  },
  {
   "cell_type": "code",
   "execution_count": 23,
   "id": "e2e3d12a",
   "metadata": {},
   "outputs": [
    {
     "name": "stdout",
     "output_type": "stream",
     "text": [
      "[0 1]\n"
     ]
    }
   ],
   "source": [
    "# Binary classification mapping \n",
    "# female = 1, male = 0\n",
    "y_norm = np.where(y=='female',1,0)\n",
    "\n",
    "print(np.unique(y_norm))  # This should print [0, 1] if both classes are present\n"
   ]
  },
  {
   "cell_type": "code",
   "execution_count": 24,
   "id": "84e44ad9",
   "metadata": {},
   "outputs": [
    {
     "name": "stdout",
     "output_type": "stream",
     "text": [
      "['female' 'male']\n",
      "[0 1]\n"
     ]
    }
   ],
   "source": [
    "# Print unique values in `y` before applying np.where\n",
    "print(np.unique(y))\n",
    "\n",
    "# Now, apply np.where and print unique values in `y_norm`\n",
    "y_norm = np.where(y=='female',1,0)\n",
    "print(np.unique(y_norm))"
   ]
  },
  {
   "cell_type": "code",
   "execution_count": 25,
   "id": "4d8f83bd",
   "metadata": {},
   "outputs": [
    {
     "name": "stdout",
     "output_type": "stream",
     "text": [
      "['female' 'male']\n"
     ]
    }
   ],
   "source": [
    "print(np.unique(y))  # This should print ['female', 'male'] if both classes are present\n"
   ]
  },
  {
   "cell_type": "code",
   "execution_count": 26,
   "id": "740cc170",
   "metadata": {},
   "outputs": [],
   "source": [
    "# save x and y in numpy zip\n",
    "np.savez(r'W:\\MayCooperStation\\New Documents\\Data Science and ML\\FacialRecognition\\data\\data_10000_norm.npz',Xnorm,y_norm)"
   ]
  },
  {
   "cell_type": "code",
   "execution_count": null,
   "id": "63719f5b",
   "metadata": {},
   "outputs": [],
   "source": []
  }
 ],
 "metadata": {
  "kernelspec": {
   "display_name": "Python 3 (ipykernel)",
   "language": "python",
   "name": "python3"
  },
  "language_info": {
   "codemirror_mode": {
    "name": "ipython",
    "version": 3
   },
   "file_extension": ".py",
   "mimetype": "text/x-python",
   "name": "python",
   "nbconvert_exporter": "python",
   "pygments_lexer": "ipython3",
   "version": "3.11.3"
  }
 },
 "nbformat": 4,
 "nbformat_minor": 5
}
