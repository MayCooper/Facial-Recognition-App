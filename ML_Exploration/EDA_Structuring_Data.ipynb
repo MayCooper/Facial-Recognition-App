{
 "cells": [
  {
   "cell_type": "markdown",
   "id": "52c4ee7e",
   "metadata": {},
   "source": [
    "# EDA Structuring Data\n",
    "\n",
    "In this script, I perform an Exploratory Data Analysis (EDA) on facial recognition image data using powerful libraries like Numpy, Pandas, Matplotlib, OpenCV, and PIL.\n",
    "\n",
    "I start by gathering the file paths of male and female images and calculating their sizes. Using descriptive statistics and creating visualizations such as a boxplot and histogram, I examine the distribution of image sizes.\n",
    "\n",
    "After I filter out any images smaller than 60 in size, I extract the gender information from the file paths and visualize the distribution of genders within the dataset.\n",
    "\n",
    "Next, I define a function to resize and flatten the images to grayscale, and store this structured data alongside the gender labels in a DataFrame.\n",
    "\n",
    "Finally, I serialize the DataFrame using Python's pickle module. This process allows me to store and retrieve the data efficiently, making it readily available for any future machine learning tasks."
   ]
  },
  {
   "cell_type": "code",
   "execution_count": 1,
   "id": "44354adc",
   "metadata": {},
   "outputs": [],
   "source": [
    "import numpy as np \n",
    "import pandas as pd  \n",
    "import matplotlib.pyplot as plt \n",
    "import cv2  # Import OpenCV library to deal with image and video data.\n",
    "from PIL import Image  # Import PIL library to perform operations on images.\n",
    "%matplotlib inline  "
   ]
  },
  {
   "cell_type": "code",
   "execution_count": 4,
   "id": "9d3dcbcf",
   "metadata": {},
   "outputs": [],
   "source": [
    "from glob import glob  # Import glob module to retrieve files/pathnames matching a specified pattern.\n",
    "female = glob(r'W:\\MayCooperStation\\New Documents\\Data Science and ML\\FacialRecognition\\data\\crop\\female_crop\\*.png')  # Get all paths of female images.\n",
    "male = glob(r'W:\\MayCooperStation\\New Documents\\Data Science and ML\\FacialRecognition\\data\\crop\\male_crop\\*.png')  # Get all paths of male images.\n",
    "path = female + male  # Concatenate the paths of female and male images."
   ]
  },
  {
   "cell_type": "code",
   "execution_count": 5,
   "id": "bf4e39b8",
   "metadata": {},
   "outputs": [],
   "source": [
    "# Function to get the size of an image.\n",
    "def getSize(path):\n",
    "    img = Image.open(path)  # Open the image using the path.\n",
    "    return img.size[0]  # Return the size (width) of the image."
   ]
  },
  {
   "cell_type": "code",
   "execution_count": 6,
   "id": "3183b912",
   "metadata": {},
   "outputs": [],
   "source": [
    "df = pd.DataFrame(data=path,columns=['path'])  # Create a dataframe with the image paths.\n",
    "df['size'] = df['path'].apply(getSize)  # Apply the getSize function to each path in the dataframe."
   ]
  },
  {
   "cell_type": "code",
   "execution_count": 9,
   "id": "9b95e437",
   "metadata": {},
   "outputs": [
    {
     "data": {
      "text/html": [
       "<div>\n",
       "<style scoped>\n",
       "    .dataframe tbody tr th:only-of-type {\n",
       "        vertical-align: middle;\n",
       "    }\n",
       "\n",
       "    .dataframe tbody tr th {\n",
       "        vertical-align: top;\n",
       "    }\n",
       "\n",
       "    .dataframe thead th {\n",
       "        text-align: right;\n",
       "    }\n",
       "</style>\n",
       "<table border=\"1\" class=\"dataframe\">\n",
       "  <thead>\n",
       "    <tr style=\"text-align: right;\">\n",
       "      <th></th>\n",
       "      <th>size</th>\n",
       "    </tr>\n",
       "  </thead>\n",
       "  <tbody>\n",
       "    <tr>\n",
       "      <th>count</th>\n",
       "      <td>6058.000000</td>\n",
       "    </tr>\n",
       "    <tr>\n",
       "      <th>mean</th>\n",
       "      <td>154.140971</td>\n",
       "    </tr>\n",
       "    <tr>\n",
       "      <th>std</th>\n",
       "      <td>71.559807</td>\n",
       "    </tr>\n",
       "    <tr>\n",
       "      <th>min</th>\n",
       "      <td>24.000000</td>\n",
       "    </tr>\n",
       "    <tr>\n",
       "      <th>25%</th>\n",
       "      <td>81.000000</td>\n",
       "    </tr>\n",
       "    <tr>\n",
       "      <th>50%</th>\n",
       "      <td>122.000000</td>\n",
       "    </tr>\n",
       "    <tr>\n",
       "      <th>75%</th>\n",
       "      <td>182.000000</td>\n",
       "    </tr>\n",
       "    <tr>\n",
       "      <th>max</th>\n",
       "      <td>410.000000</td>\n",
       "    </tr>\n",
       "  </tbody>\n",
       "</table>\n",
       "</div>"
      ],
      "text/plain": [
       "              size\n",
       "count  6058.000000\n",
       "mean    154.140971\n",
       "std      71.559807\n",
       "min      24.000000\n",
       "25%      81.000000\n",
       "50%     122.000000\n",
       "75%     182.000000\n",
       "max     410.000000"
      ]
     },
     "execution_count": 9,
     "metadata": {},
     "output_type": "execute_result"
    }
   ],
   "source": [
    "df.describe()  # Generate descriptive statistics of the dataframe."
   ]
  },
  {
   "cell_type": "code",
   "execution_count": 33,
   "id": "a4820600",
   "metadata": {},
   "outputs": [
    {
     "data": {
      "text/plain": [
       "<Axes: >"
      ]
     },
     "execution_count": 33,
     "metadata": {},
     "output_type": "execute_result"
    },
    {
     "data": {
      "image/png": "[encoded data removed]",
      "text/plain": [
       "<Figure size 640x480 with 1 Axes>"
      ]
     },
     "metadata": {},
     "output_type": "display_data"
    }
   ],
   "source": [
    "df['size'].plot(kind='box')"
   ]
  },
  {
   "cell_type": "code",
   "execution_count": 10,
   "id": "d13950ee",
   "metadata": {},
   "outputs": [
    {
     "data": {
      "image/png": "[encoded data removed]",
      "text/plain": [
       "<Figure size 640x480 with 1 Axes>"
      ]
     },
     "metadata": {},
     "output_type": "display_data"
    }
   ],
   "source": [
    "df['size'].plot(kind='box') # Create a box plot of the 'size' column.\n",
    "plt.hist(df['size'],bins=30)  # Create a histogram of the 'size' column.\n",
    "plt.show()  # Display the plot."
   ]
  },
  {
   "cell_type": "code",
   "execution_count": 11,
   "id": "c9b23154",
   "metadata": {},
   "outputs": [],
   "source": [
    "df_new = df[df['size'] > 60]  # Create a new dataframe only with images that have a size greater than 60."
   ]
  },
  {
   "cell_type": "code",
   "execution_count": 34,
   "id": "43483851",
   "metadata": {},
   "outputs": [
    {
     "data": {
      "text/html": [
       "<div>\n",
       "<style scoped>\n",
       "    .dataframe tbody tr th:only-of-type {\n",
       "        vertical-align: middle;\n",
       "    }\n",
       "\n",
       "    .dataframe tbody tr th {\n",
       "        vertical-align: top;\n",
       "    }\n",
       "\n",
       "    .dataframe thead th {\n",
       "        text-align: right;\n",
       "    }\n",
       "</style>\n",
       "<table border=\"1\" class=\"dataframe\">\n",
       "  <thead>\n",
       "    <tr style=\"text-align: right;\">\n",
       "      <th></th>\n",
       "      <th>path</th>\n",
       "      <th>size</th>\n",
       "      <th>gender</th>\n",
       "      <th>structure_data</th>\n",
       "    </tr>\n",
       "  </thead>\n",
       "  <tbody>\n",
       "    <tr>\n",
       "      <th>0</th>\n",
       "      <td>W:\\MayCooperStation\\New Documents\\Data Science...</td>\n",
       "      <td>273</td>\n",
       "      <td>W:\\MayCooperStation\\New Documents\\Data Science...</td>\n",
       "      <td>[188, 180, 184, 188, 173, 179, 192, 178, 216, ...</td>\n",
       "    </tr>\n",
       "    <tr>\n",
       "      <th>1</th>\n",
       "      <td>W:\\MayCooperStation\\New Documents\\Data Science...</td>\n",
       "      <td>182</td>\n",
       "      <td>W:\\MayCooperStation\\New Documents\\Data Science...</td>\n",
       "      <td>[32, 24, 32, 27, 29, 29, 29, 32, 36, 30, 46, 8...</td>\n",
       "    </tr>\n",
       "    <tr>\n",
       "      <th>2</th>\n",
       "      <td>W:\\MayCooperStation\\New Documents\\Data Science...</td>\n",
       "      <td>182</td>\n",
       "      <td>W:\\MayCooperStation\\New Documents\\Data Science...</td>\n",
       "      <td>[22, 30, 39, 36, 30, 61, 11, 17, 10, 19, 13, 1...</td>\n",
       "    </tr>\n",
       "    <tr>\n",
       "      <th>3</th>\n",
       "      <td>W:\\MayCooperStation\\New Documents\\Data Science...</td>\n",
       "      <td>182</td>\n",
       "      <td>W:\\MayCooperStation\\New Documents\\Data Science...</td>\n",
       "      <td>[35, 35, 35, 35, 35, 35, 35, 35, 35, 35, 35, 3...</td>\n",
       "    </tr>\n",
       "    <tr>\n",
       "      <th>4</th>\n",
       "      <td>W:\\MayCooperStation\\New Documents\\Data Science...</td>\n",
       "      <td>81</td>\n",
       "      <td>W:\\MayCooperStation\\New Documents\\Data Science...</td>\n",
       "      <td>[86, 86, 71, 54, 45, 49, 33, 20, 18, 23, 27, 2...</td>\n",
       "    </tr>\n",
       "    <tr>\n",
       "      <th>...</th>\n",
       "      <td>...</td>\n",
       "      <td>...</td>\n",
       "      <td>...</td>\n",
       "      <td>...</td>\n",
       "    </tr>\n",
       "    <tr>\n",
       "      <th>6053</th>\n",
       "      <td>W:\\MayCooperStation\\New Documents\\Data Science...</td>\n",
       "      <td>182</td>\n",
       "      <td>W:\\MayCooperStation\\New Documents\\Data Science...</td>\n",
       "      <td>[31, 31, 31, 31, 31, 31, 31, 31, 30, 29, 29, 3...</td>\n",
       "    </tr>\n",
       "    <tr>\n",
       "      <th>6054</th>\n",
       "      <td>W:\\MayCooperStation\\New Documents\\Data Science...</td>\n",
       "      <td>273</td>\n",
       "      <td>W:\\MayCooperStation\\New Documents\\Data Science...</td>\n",
       "      <td>[88, 41, 33, 18, 15, 14, 13, 29, 25, 74, 114, ...</td>\n",
       "    </tr>\n",
       "    <tr>\n",
       "      <th>6055</th>\n",
       "      <td>W:\\MayCooperStation\\New Documents\\Data Science...</td>\n",
       "      <td>122</td>\n",
       "      <td>W:\\MayCooperStation\\New Documents\\Data Science...</td>\n",
       "      <td>[25, 25, 26, 25, 26, 31, 35, 46, 60, 114, 195,...</td>\n",
       "    </tr>\n",
       "    <tr>\n",
       "      <th>6056</th>\n",
       "      <td>W:\\MayCooperStation\\New Documents\\Data Science...</td>\n",
       "      <td>182</td>\n",
       "      <td>W:\\MayCooperStation\\New Documents\\Data Science...</td>\n",
       "      <td>[21, 27, 31, 24, 19, 24, 21, 19, 31, 36, 15, 2...</td>\n",
       "    </tr>\n",
       "    <tr>\n",
       "      <th>6057</th>\n",
       "      <td>W:\\MayCooperStation\\New Documents\\Data Science...</td>\n",
       "      <td>273</td>\n",
       "      <td>W:\\MayCooperStation\\New Documents\\Data Science...</td>\n",
       "      <td>[4, 3, 2, 2, 2, 0, 1, 7, 6, 17, 18, 2, 6, 16, ...</td>\n",
       "    </tr>\n",
       "  </tbody>\n",
       "</table>\n",
       "<p>5460 rows × 4 columns</p>\n",
       "</div>"
      ],
      "text/plain": [
       "                                                   path  size  \\\n",
       "0     W:\\MayCooperStation\\New Documents\\Data Science...   273   \n",
       "1     W:\\MayCooperStation\\New Documents\\Data Science...   182   \n",
       "2     W:\\MayCooperStation\\New Documents\\Data Science...   182   \n",
       "3     W:\\MayCooperStation\\New Documents\\Data Science...   182   \n",
       "4     W:\\MayCooperStation\\New Documents\\Data Science...    81   \n",
       "...                                                 ...   ...   \n",
       "6053  W:\\MayCooperStation\\New Documents\\Data Science...   182   \n",
       "6054  W:\\MayCooperStation\\New Documents\\Data Science...   273   \n",
       "6055  W:\\MayCooperStation\\New Documents\\Data Science...   122   \n",
       "6056  W:\\MayCooperStation\\New Documents\\Data Science...   182   \n",
       "6057  W:\\MayCooperStation\\New Documents\\Data Science...   273   \n",
       "\n",
       "                                                 gender  \\\n",
       "0     W:\\MayCooperStation\\New Documents\\Data Science...   \n",
       "1     W:\\MayCooperStation\\New Documents\\Data Science...   \n",
       "2     W:\\MayCooperStation\\New Documents\\Data Science...   \n",
       "3     W:\\MayCooperStation\\New Documents\\Data Science...   \n",
       "4     W:\\MayCooperStation\\New Documents\\Data Science...   \n",
       "...                                                 ...   \n",
       "6053  W:\\MayCooperStation\\New Documents\\Data Science...   \n",
       "6054  W:\\MayCooperStation\\New Documents\\Data Science...   \n",
       "6055  W:\\MayCooperStation\\New Documents\\Data Science...   \n",
       "6056  W:\\MayCooperStation\\New Documents\\Data Science...   \n",
       "6057  W:\\MayCooperStation\\New Documents\\Data Science...   \n",
       "\n",
       "                                         structure_data  \n",
       "0     [188, 180, 184, 188, 173, 179, 192, 178, 216, ...  \n",
       "1     [32, 24, 32, 27, 29, 29, 29, 32, 36, 30, 46, 8...  \n",
       "2     [22, 30, 39, 36, 30, 61, 11, 17, 10, 19, 13, 1...  \n",
       "3     [35, 35, 35, 35, 35, 35, 35, 35, 35, 35, 35, 3...  \n",
       "4     [86, 86, 71, 54, 45, 49, 33, 20, 18, 23, 27, 2...  \n",
       "...                                                 ...  \n",
       "6053  [31, 31, 31, 31, 31, 31, 31, 31, 30, 29, 29, 3...  \n",
       "6054  [88, 41, 33, 18, 15, 14, 13, 29, 25, 74, 114, ...  \n",
       "6055  [25, 25, 26, 25, 26, 31, 35, 46, 60, 114, 195,...  \n",
       "6056  [21, 27, 31, 24, 19, 24, 21, 19, 31, 36, 15, 2...  \n",
       "6057  [4, 3, 2, 2, 2, 0, 1, 7, 6, 17, 18, 2, 6, 16, ...  \n",
       "\n",
       "[5460 rows x 4 columns]"
      ]
     },
     "execution_count": 34,
     "metadata": {},
     "output_type": "execute_result"
    }
   ],
   "source": [
    "df_new"
   ]
  },
  {
   "cell_type": "code",
   "execution_count": 35,
   "id": "2474e03a",
   "metadata": {},
   "outputs": [],
   "source": [
    "# Function to get the gender from the path string.\n",
    "def gender(string):\n",
    "    try:\n",
    "        return string.split('_')[0].split('/')[-1]  # Split the string by underscore and slash to get the gender.\n",
    "    except:\n",
    "        return None  "
   ]
  },
  {
   "cell_type": "code",
   "execution_count": 36,
   "id": "43c76c2b",
   "metadata": {},
   "outputs": [],
   "source": [
    "df['gender'] = df['path'].apply(gender)  # Apply the gender function to each path in the dataframe."
   ]
  },
  {
   "cell_type": "code",
   "execution_count": 23,
   "id": "359bd7d5",
   "metadata": {},
   "outputs": [
    {
     "data": {
      "image/png": "[encoded data removed]",
      "text/plain": [
       "<Figure size 640x480 with 1 Axes>"
      ]
     },
     "metadata": {},
     "output_type": "display_data"
    }
   ],
   "source": [
    "# Function to extract gender from path\n",
    "def get_gender(path):\n",
    "    return path.split('\\\\')[-2].split('_')[0]\n",
    "\n",
    "# Apply the function to the 'path' column to create a new 'gender' column\n",
    "df['gender'] = df['path'].apply(get_gender)\n",
    "\n",
    "# Create a bar plot of the normalized value counts of 'gender' column\n",
    "df['gender'].value_counts(normalize=True).plot(kind='bar')\n",
    "\n",
    "# Labeling the plot\n",
    "plt.xlabel('Gender')\n",
    "plt.ylabel('Percentage')\n",
    "plt.title('Gender distribution')\n",
    "plt.show()\n"
   ]
  },
  {
   "cell_type": "markdown",
   "id": "49d81c83",
   "metadata": {},
   "source": [
    "1. 60 % Female are there and rest 40% are male\n",
    "2. All the images size is greater than or equal to 81\n",
    "\n",
    "conclusion : resizing all the image in df_new to 100 x 100 array"
   ]
  },
  {
   "cell_type": "markdown",
   "id": "37d127e9",
   "metadata": {},
   "source": [
    "## Resize Image"
   ]
  },
  {
   "cell_type": "code",
   "execution_count": 24,
   "id": "696fc4f1",
   "metadata": {},
   "outputs": [],
   "source": [
    "# Function to resize and flatten the image.\n",
    "def resize_img(path_to_resize):\n",
    "    try:\n",
    "        img = cv2.imread(path_to_resize)  # Read the image.\n",
    "        gray = cv2.cvtColor(img,cv2.COLOR_BGR2GRAY)  # Convert the image to grayscale.\n",
    "        size = gray.shape[0]  # Get the size (width) of the image.\n",
    "        if size >= 100:  # If the size is greater or equal to 100, shrink the image.\n",
    "            gray_re = cv2.resize(gray,(100,100),cv2.INTER_AREA)\n",
    "        else:  # If the size is less than 100, enlarge the image.\n",
    "            gray_re = cv2.resize(gray,(100,100),cv2.INTER_CUBIC)\n",
    "        return gray_re.flatten()  # Flatten the resized image and return it.\n",
    "    except:\n",
    "        return None  # If it is not possible, return None."
   ]
  },
  {
   "cell_type": "code",
   "execution_count": 37,
   "id": "dfd9e1e7",
   "metadata": {},
   "outputs": [
    {
     "data": {
      "text/plain": [
       "10000"
      ]
     },
     "execution_count": 37,
     "metadata": {},
     "output_type": "execute_result"
    }
   ],
   "source": [
    "len(resize_img(path[0]))"
   ]
  },
  {
   "cell_type": "code",
   "execution_count": 40,
   "id": "fe881b1f",
   "metadata": {},
   "outputs": [
    {
     "data": {
      "text/html": [
       "<div>\n",
       "<style scoped>\n",
       "    .dataframe tbody tr th:only-of-type {\n",
       "        vertical-align: middle;\n",
       "    }\n",
       "\n",
       "    .dataframe tbody tr th {\n",
       "        vertical-align: top;\n",
       "    }\n",
       "\n",
       "    .dataframe thead th {\n",
       "        text-align: right;\n",
       "    }\n",
       "</style>\n",
       "<table border=\"1\" class=\"dataframe\">\n",
       "  <thead>\n",
       "    <tr style=\"text-align: right;\">\n",
       "      <th></th>\n",
       "      <th>path</th>\n",
       "      <th>size</th>\n",
       "      <th>gender</th>\n",
       "      <th>structure_data</th>\n",
       "    </tr>\n",
       "  </thead>\n",
       "  <tbody>\n",
       "    <tr>\n",
       "      <th>0</th>\n",
       "      <td>W:\\MayCooperStation\\New Documents\\Data Science...</td>\n",
       "      <td>273</td>\n",
       "      <td>W:\\MayCooperStation\\New Documents\\Data Science...</td>\n",
       "      <td>[188, 180, 184, 188, 173, 179, 192, 178, 216, ...</td>\n",
       "    </tr>\n",
       "    <tr>\n",
       "      <th>1</th>\n",
       "      <td>W:\\MayCooperStation\\New Documents\\Data Science...</td>\n",
       "      <td>182</td>\n",
       "      <td>W:\\MayCooperStation\\New Documents\\Data Science...</td>\n",
       "      <td>[32, 24, 32, 27, 29, 29, 29, 32, 36, 30, 46, 8...</td>\n",
       "    </tr>\n",
       "    <tr>\n",
       "      <th>2</th>\n",
       "      <td>W:\\MayCooperStation\\New Documents\\Data Science...</td>\n",
       "      <td>182</td>\n",
       "      <td>W:\\MayCooperStation\\New Documents\\Data Science...</td>\n",
       "      <td>[22, 30, 39, 36, 30, 61, 11, 17, 10, 19, 13, 1...</td>\n",
       "    </tr>\n",
       "    <tr>\n",
       "      <th>3</th>\n",
       "      <td>W:\\MayCooperStation\\New Documents\\Data Science...</td>\n",
       "      <td>182</td>\n",
       "      <td>W:\\MayCooperStation\\New Documents\\Data Science...</td>\n",
       "      <td>[35, 35, 35, 35, 35, 35, 35, 35, 35, 35, 35, 3...</td>\n",
       "    </tr>\n",
       "    <tr>\n",
       "      <th>4</th>\n",
       "      <td>W:\\MayCooperStation\\New Documents\\Data Science...</td>\n",
       "      <td>81</td>\n",
       "      <td>W:\\MayCooperStation\\New Documents\\Data Science...</td>\n",
       "      <td>[86, 86, 71, 54, 45, 49, 33, 20, 18, 23, 27, 2...</td>\n",
       "    </tr>\n",
       "  </tbody>\n",
       "</table>\n",
       "</div>"
      ],
      "text/plain": [
       "                                                path  size  \\\n",
       "0  W:\\MayCooperStation\\New Documents\\Data Science...   273   \n",
       "1  W:\\MayCooperStation\\New Documents\\Data Science...   182   \n",
       "2  W:\\MayCooperStation\\New Documents\\Data Science...   182   \n",
       "3  W:\\MayCooperStation\\New Documents\\Data Science...   182   \n",
       "4  W:\\MayCooperStation\\New Documents\\Data Science...    81   \n",
       "\n",
       "                                              gender  \\\n",
       "0  W:\\MayCooperStation\\New Documents\\Data Science...   \n",
       "1  W:\\MayCooperStation\\New Documents\\Data Science...   \n",
       "2  W:\\MayCooperStation\\New Documents\\Data Science...   \n",
       "3  W:\\MayCooperStation\\New Documents\\Data Science...   \n",
       "4  W:\\MayCooperStation\\New Documents\\Data Science...   \n",
       "\n",
       "                                      structure_data  \n",
       "0  [188, 180, 184, 188, 173, 179, 192, 178, 216, ...  \n",
       "1  [32, 24, 32, 27, 29, 29, 29, 32, 36, 30, 46, 8...  \n",
       "2  [22, 30, 39, 36, 30, 61, 11, 17, 10, 19, 13, 1...  \n",
       "3  [35, 35, 35, 35, 35, 35, 35, 35, 35, 35, 35, 3...  \n",
       "4  [86, 86, 71, 54, 45, 49, 33, 20, 18, 23, 27, 2...  "
      ]
     },
     "execution_count": 40,
     "metadata": {},
     "output_type": "execute_result"
    }
   ],
   "source": [
    "df_new.loc[:, 'gender'] = df_new['path'].apply(gender)\n",
    "df_new.head()"
   ]
  },
  {
   "cell_type": "code",
   "execution_count": 42,
   "id": "6dd04121",
   "metadata": {},
   "outputs": [],
   "source": [
    "# structuring function\n",
    "df_new.loc[:, 'structure_data'] = df_new['path'].apply(resize_img)"
   ]
  },
  {
   "cell_type": "code",
   "execution_count": 43,
   "id": "e12cf8d9",
   "metadata": {},
   "outputs": [],
   "source": [
    "# copy and expand their columns\n",
    "df1 = df_new['structure_data'].apply(pd.Series)"
   ]
  },
  {
   "cell_type": "code",
   "execution_count": 44,
   "id": "7035af6d",
   "metadata": {},
   "outputs": [],
   "source": [
    "df2 = pd.concat((df_new['gender'],df1),axis=1)"
   ]
  },
  {
   "cell_type": "code",
   "execution_count": 45,
   "id": "a79759a1",
   "metadata": {},
   "outputs": [
    {
     "data": {
      "text/html": [
       "<div>\n",
       "<style scoped>\n",
       "    .dataframe tbody tr th:only-of-type {\n",
       "        vertical-align: middle;\n",
       "    }\n",
       "\n",
       "    .dataframe tbody tr th {\n",
       "        vertical-align: top;\n",
       "    }\n",
       "\n",
       "    .dataframe thead th {\n",
       "        text-align: right;\n",
       "    }\n",
       "</style>\n",
       "<table border=\"1\" class=\"dataframe\">\n",
       "  <thead>\n",
       "    <tr style=\"text-align: right;\">\n",
       "      <th></th>\n",
       "      <th>gender</th>\n",
       "      <th>0</th>\n",
       "      <th>1</th>\n",
       "      <th>2</th>\n",
       "      <th>3</th>\n",
       "      <th>4</th>\n",
       "      <th>5</th>\n",
       "      <th>6</th>\n",
       "      <th>7</th>\n",
       "      <th>8</th>\n",
       "      <th>...</th>\n",
       "      <th>9990</th>\n",
       "      <th>9991</th>\n",
       "      <th>9992</th>\n",
       "      <th>9993</th>\n",
       "      <th>9994</th>\n",
       "      <th>9995</th>\n",
       "      <th>9996</th>\n",
       "      <th>9997</th>\n",
       "      <th>9998</th>\n",
       "      <th>9999</th>\n",
       "    </tr>\n",
       "  </thead>\n",
       "  <tbody>\n",
       "    <tr>\n",
       "      <th>0</th>\n",
       "      <td>W:\\MayCooperStation\\New Documents\\Data Science...</td>\n",
       "      <td>188</td>\n",
       "      <td>180</td>\n",
       "      <td>184</td>\n",
       "      <td>188</td>\n",
       "      <td>173</td>\n",
       "      <td>179</td>\n",
       "      <td>192</td>\n",
       "      <td>178</td>\n",
       "      <td>216</td>\n",
       "      <td>...</td>\n",
       "      <td>109</td>\n",
       "      <td>111</td>\n",
       "      <td>115</td>\n",
       "      <td>116</td>\n",
       "      <td>122</td>\n",
       "      <td>116</td>\n",
       "      <td>119</td>\n",
       "      <td>120</td>\n",
       "      <td>117</td>\n",
       "      <td>111</td>\n",
       "    </tr>\n",
       "    <tr>\n",
       "      <th>1</th>\n",
       "      <td>W:\\MayCooperStation\\New Documents\\Data Science...</td>\n",
       "      <td>32</td>\n",
       "      <td>24</td>\n",
       "      <td>32</td>\n",
       "      <td>27</td>\n",
       "      <td>29</td>\n",
       "      <td>29</td>\n",
       "      <td>29</td>\n",
       "      <td>32</td>\n",
       "      <td>36</td>\n",
       "      <td>...</td>\n",
       "      <td>58</td>\n",
       "      <td>47</td>\n",
       "      <td>27</td>\n",
       "      <td>33</td>\n",
       "      <td>22</td>\n",
       "      <td>28</td>\n",
       "      <td>22</td>\n",
       "      <td>36</td>\n",
       "      <td>62</td>\n",
       "      <td>17</td>\n",
       "    </tr>\n",
       "    <tr>\n",
       "      <th>2</th>\n",
       "      <td>W:\\MayCooperStation\\New Documents\\Data Science...</td>\n",
       "      <td>22</td>\n",
       "      <td>30</td>\n",
       "      <td>39</td>\n",
       "      <td>36</td>\n",
       "      <td>30</td>\n",
       "      <td>61</td>\n",
       "      <td>11</td>\n",
       "      <td>17</td>\n",
       "      <td>10</td>\n",
       "      <td>...</td>\n",
       "      <td>156</td>\n",
       "      <td>171</td>\n",
       "      <td>177</td>\n",
       "      <td>186</td>\n",
       "      <td>176</td>\n",
       "      <td>185</td>\n",
       "      <td>186</td>\n",
       "      <td>190</td>\n",
       "      <td>177</td>\n",
       "      <td>177</td>\n",
       "    </tr>\n",
       "    <tr>\n",
       "      <th>3</th>\n",
       "      <td>W:\\MayCooperStation\\New Documents\\Data Science...</td>\n",
       "      <td>35</td>\n",
       "      <td>35</td>\n",
       "      <td>35</td>\n",
       "      <td>35</td>\n",
       "      <td>35</td>\n",
       "      <td>35</td>\n",
       "      <td>35</td>\n",
       "      <td>35</td>\n",
       "      <td>35</td>\n",
       "      <td>...</td>\n",
       "      <td>75</td>\n",
       "      <td>82</td>\n",
       "      <td>90</td>\n",
       "      <td>92</td>\n",
       "      <td>86</td>\n",
       "      <td>70</td>\n",
       "      <td>89</td>\n",
       "      <td>84</td>\n",
       "      <td>84</td>\n",
       "      <td>74</td>\n",
       "    </tr>\n",
       "    <tr>\n",
       "      <th>4</th>\n",
       "      <td>W:\\MayCooperStation\\New Documents\\Data Science...</td>\n",
       "      <td>86</td>\n",
       "      <td>86</td>\n",
       "      <td>71</td>\n",
       "      <td>54</td>\n",
       "      <td>45</td>\n",
       "      <td>49</td>\n",
       "      <td>33</td>\n",
       "      <td>20</td>\n",
       "      <td>18</td>\n",
       "      <td>...</td>\n",
       "      <td>35</td>\n",
       "      <td>34</td>\n",
       "      <td>32</td>\n",
       "      <td>32</td>\n",
       "      <td>30</td>\n",
       "      <td>32</td>\n",
       "      <td>34</td>\n",
       "      <td>34</td>\n",
       "      <td>33</td>\n",
       "      <td>30</td>\n",
       "    </tr>\n",
       "  </tbody>\n",
       "</table>\n",
       "<p>5 rows × 10001 columns</p>\n",
       "</div>"
      ],
      "text/plain": [
       "                                              gender    0    1    2    3    4  \\\n",
       "0  W:\\MayCooperStation\\New Documents\\Data Science...  188  180  184  188  173   \n",
       "1  W:\\MayCooperStation\\New Documents\\Data Science...   32   24   32   27   29   \n",
       "2  W:\\MayCooperStation\\New Documents\\Data Science...   22   30   39   36   30   \n",
       "3  W:\\MayCooperStation\\New Documents\\Data Science...   35   35   35   35   35   \n",
       "4  W:\\MayCooperStation\\New Documents\\Data Science...   86   86   71   54   45   \n",
       "\n",
       "     5    6    7    8  ...  9990  9991  9992  9993  9994  9995  9996  9997  \\\n",
       "0  179  192  178  216  ...   109   111   115   116   122   116   119   120   \n",
       "1   29   29   32   36  ...    58    47    27    33    22    28    22    36   \n",
       "2   61   11   17   10  ...   156   171   177   186   176   185   186   190   \n",
       "3   35   35   35   35  ...    75    82    90    92    86    70    89    84   \n",
       "4   49   33   20   18  ...    35    34    32    32    30    32    34    34   \n",
       "\n",
       "   9998  9999  \n",
       "0   117   111  \n",
       "1    62    17  \n",
       "2   177   177  \n",
       "3    84    74  \n",
       "4    33    30  \n",
       "\n",
       "[5 rows x 10001 columns]"
      ]
     },
     "execution_count": 45,
     "metadata": {},
     "output_type": "execute_result"
    }
   ],
   "source": [
    "df2.head()\n"
   ]
  },
  {
   "cell_type": "code",
   "execution_count": 50,
   "id": "e403d2aa",
   "metadata": {},
   "outputs": [
    {
     "data": {
      "image/png": "[encoded data removed]",
      "text/plain": [
       "<Figure size 640x480 with 1 Axes>"
      ]
     },
     "metadata": {},
     "output_type": "display_data"
    }
   ],
   "source": [
    "plt.imshow(df2.loc[0][1:].values.reshape(100,100).astype('int'),cmap='gray')\n",
    "plt.title(\"Label: female\")\n",
    "plt.show()"
   ]
  },
  {
   "cell_type": "markdown",
   "id": "03234448",
   "metadata": {},
   "source": [
    "## Saving DataFrames Using Pickle Format\n",
    "\n",
    "The pickle format is commonly used in machine learning (ML) for saving and loading trained models, intermediate data structures, or any Python objects. Here are some reasons why the pickle format is widely used in ML:\n",
    "\n",
    "1. Object Serialization: Pickle provides a convenient way to serialize Python objects into a byte stream. In ML, this allows you to save trained models, including their architecture, parameters, and state, as well as other relevant objects like feature transformers or preprocessing pipelines. Serialized objects can be stored as files, transferred across systems, and later deserialized to reconstruct the original objects.\n",
    "\n",
    "2. Platform Independence: Pickle format is platform-independent, which means you can serialize objects on one system and deserialize them on another system with a different architecture or operating system. This flexibility is essential when sharing ML models or collaborating across different environments.\n",
    "\n",
    "3. Preserve Model State: ML models often involve extensive training, and saving the trained model in pickle format allows you to preserve its state. This means you can load the model later and continue training, make predictions, or perform other operations without starting from scratch.\n",
    "\n",
    "4. Integration with Python Ecosystem: Pickle is a built-in module in Python, making it seamlessly integrate with the broader Python ecosystem. It is supported by many libraries and frameworks used in ML, such as scikit-learn, TensorFlow, PyTorch, and more. This makes it easy to use pickle to save and load objects in ML workflows.\n",
    "\n",
    "5. Efficiency: Pickle provides a relatively efficient way to serialize and deserialize objects. The serialization process converts the objects into a compact binary representation, enabling efficient storage and transfer. This is especially useful when dealing with large models or datasets."
   ]
  },
  {
   "cell_type": "code",
   "execution_count": 51,
   "id": "dc27b874",
   "metadata": {},
   "outputs": [],
   "source": [
    "# Saving images in pickle format\n",
    "import pickle\n",
    "\n",
    "pickle.dump(df2, open(r'W:\\MayCooperStation\\New Documents\\Data Science and ML\\FacialRecognition\\data\\dataframe_images_100_100.pickle', 'wb'))"
   ]
  },
  {
   "cell_type": "code",
   "execution_count": null,
   "id": "fd973f86",
   "metadata": {},
   "outputs": [],
   "source": []
  }
 ],
 "metadata": {
  "kernelspec": {
   "display_name": "Python 3 (ipykernel)",
   "language": "python",
   "name": "python3"
  },
  "language_info": {
   "codemirror_mode": {
    "name": "ipython",
    "version": 3
   },
   "file_extension": ".py",
   "mimetype": "text/x-python",
   "name": "python",
   "nbconvert_exporter": "python",
   "pygments_lexer": "ipython3",
   "version": "3.11.3"
  }
 },
 "nbformat": 4,
 "nbformat_minor": 5
}
