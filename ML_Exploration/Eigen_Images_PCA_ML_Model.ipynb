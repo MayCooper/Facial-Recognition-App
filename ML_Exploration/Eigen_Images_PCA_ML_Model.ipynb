{
 "cells": [
  {
   "cell_type": "markdown",
   "id": "63a6d95f",
   "metadata": {},
   "source": [
    "# Eigen Images \n",
    "\n",
    "In this script, I'll be focusing on training a machine learning model using the Support Vector Classifier (SVC) algorithm on the preprocessed facial recognition dataset.\n",
    "\n",
    "To begin, I import the necessary libraries, including numpy, pandas, and matplotlib. I also import PCA from scikit-learn for dimensionality reduction if required, and set up inline plotting for graphs.\n",
    "\n",
    "Next, I'll load the preprocessed data, which includes the PCA-applied data 'X', the target labels 'y', and the mean 'mean'.\n",
    "\n",
    "Then, we'll split the data into training and testing sets using the train_test_split function from scikit-learn. This will allow me to evaluate the model's performance on unseen data.\n",
    "\n",
    "We'll import SVC from scikit-learn and create an SVC model with specified parameters. These parameters will include a regularization parameter (C), kernel type (rbf), and gamma value. "
   ]
  },
  {
   "cell_type": "code",
   "execution_count": 10,
   "id": "c3f3e40b",
   "metadata": {},
   "outputs": [],
   "source": [
    "# Ignore warnings\n",
    "import warnings\n",
    "warnings.filterwarnings('ignore')\n",
    "\n",
    "# Import necessary libraries for data manipulation and visualisation\n",
    "import numpy as np\n",
    "import pandas as pd\n",
    "import matplotlib.pyplot as plt\n",
    "\n",
    "# Import PCA for Dimensionality reduction (if needed)\n",
    "from sklearn.decomposition import PCA\n",
    "# Allow inline plotting of graphs\n",
    "%matplotlib inline"
   ]
  },
  {
   "cell_type": "code",
   "execution_count": 11,
   "id": "bd4b8fd5",
   "metadata": {},
   "outputs": [
    {
     "data": {
      "text/plain": [
       "['arr_0', 'arr_1', 'arr_2']"
      ]
     },
     "execution_count": 11,
     "metadata": {},
     "output_type": "execute_result"
    }
   ],
   "source": [
    "# Load the data from pickle file which has PCA applied data 'X', target 'y' and mean 'mean'\n",
    "data = np.load(r'W:\\MayCooperStation\\New Documents\\Data Science and ML\\FacialRecognition\\data\\data_pca_50_y_mean.pickle.npz')\n",
    "data.files"
   ]
  },
  {
   "cell_type": "code",
   "execution_count": 12,
   "id": "ea776e78",
   "metadata": {},
   "outputs": [],
   "source": [
    "# Assign the arrays from loaded data to variables\n",
    "X = data['arr_0']\n",
    "y = data['arr_1']\n",
    "mean = data['arr_2']"
   ]
  },
  {
   "cell_type": "code",
   "execution_count": 13,
   "id": "eccb6844",
   "metadata": {},
   "outputs": [],
   "source": [
    "# Import the train-test split function\n",
    "from sklearn.model_selection import train_test_split\n",
    "\n",
    "# Split the data into training and testing sets\n",
    "x_train,x_test,y_train,y_test = train_test_split(X,y,test_size=0.2,stratify=y)"
   ]
  },
  {
   "cell_type": "code",
   "execution_count": 14,
   "id": "d6328b6c",
   "metadata": {},
   "outputs": [
    {
     "data": {
      "text/plain": [
       "((4368, 50), (1092, 50), (4368,), (1092,))"
      ]
     },
     "execution_count": 14,
     "metadata": {},
     "output_type": "execute_result"
    }
   ],
   "source": [
    "# Check the shape of the splits\n",
    "x_train.shape,x_test.shape,y_train.shape,y_test.shape"
   ]
  },
  {
   "cell_type": "markdown",
   "id": "86571b4b",
   "metadata": {},
   "source": [
    "# Training a Machine Learning Model"
   ]
  },
  {
   "cell_type": "code",
   "execution_count": 15,
   "id": "a3fed5fc",
   "metadata": {},
   "outputs": [],
   "source": [
    "# Import Support Vector Classifier (SVC) from sklearn\n",
    "from sklearn.svm import SVC"
   ]
  },
  {
   "cell_type": "code",
   "execution_count": 16,
   "id": "0f56ef98",
   "metadata": {},
   "outputs": [],
   "source": [
    "# Create an SVC model with specified parameters\n",
    "model = SVC(C=1.0,kernel='rbf',gamma=0.01,probability=True,)"
   ]
  },
  {
   "cell_type": "code",
   "execution_count": 17,
   "id": "fdc86baa",
   "metadata": {},
   "outputs": [
    {
     "name": "stdout",
     "output_type": "stream",
     "text": [
      "Model trained successfully\n"
     ]
    }
   ],
   "source": [
    "# Train the model with the training data\n",
    "model.fit(x_train,y_train)\n",
    "\n",
    "print('Model trained successfully')"
   ]
  },
  {
   "cell_type": "code",
   "execution_count": null,
   "id": "a3b4c2fe",
   "metadata": {},
   "outputs": [],
   "source": []
  }
 ],
 "metadata": {
  "kernelspec": {
   "display_name": "Python 3 (ipykernel)",
   "language": "python",
   "name": "python3"
  },
  "language_info": {
   "codemirror_mode": {
    "name": "ipython",
    "version": 3
   },
   "file_extension": ".py",
   "mimetype": "text/x-python",
   "name": "python",
   "nbconvert_exporter": "python",
   "pygments_lexer": "ipython3",
   "version": "3.11.3"
  }
 },
 "nbformat": 4,
 "nbformat_minor": 5
}
