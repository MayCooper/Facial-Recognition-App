{
 "cells": [
  {
   "cell_type": "markdown",
   "id": "0d6f7099",
   "metadata": {},
   "source": [
    "# Making the Pipeline Model\n",
    "\n",
    "In this script, I'll be using a pre-trained SVM model to perform gender classification on a given image.\n",
    "\n",
    "First, I import the necessary libraries such as numpy, pandas, matplotlib, and sklearn. I also load the required pickle files and the Haar cascade XML file for face detection.\n",
    "\n",
    "Then, I define the labels for gender classification and the font for overlay text.\n",
    "\n",
    "Next, I read the test image using OpenCV and define a pipeline model function. Inside the function, I convert the image to grayscale and detect faces using the Haar cascade classifier. For each detected face, I draw a rectangle around it and perform necessary preprocessing steps. This includes normalizing the cropped face, resizing it to (100,100), flattening the image, subtracting the mean, and applying PCA to obtain the eigen image. I then use the pre-trained SVM model to predict the gender of the face and overlay the prediction and score on the image.\n",
    "\n",
    "I call the pipeline model function with the test image and display the resulting image. Additionally, I check if the eigen image is not None and if so, I display the inverse of the PCA transformation as an image using matplotlib. If no faces are detected in the image, a corresponding message is printed.\n",
    "\n",
    "This script allows for gender classification on an image using a pre-trained SVM model and demonstrates the steps involved in the pipeline, from face detection to preprocessing and prediction."
   ]
  },
  {
   "cell_type": "code",
   "execution_count": 60,
   "id": "3994b462",
   "metadata": {},
   "outputs": [],
   "source": [
    "import numpy as np\n",
    "import pandas as pd\n",
    "import matplotlib.pyplot as plt\n",
    "import sklearn\n",
    "import pickle\n",
    "import cv2\n",
    "import sklearn.svm\n",
    "import sys\n",
    "sys.modules['sklearn.svm.classes'] = sklearn.svm\n",
    "\n",
    "import warnings\n",
    "warnings.filterwarnings('ignore')\n",
    "\n",
    "%matplotlib inline"
   ]
  },
  {
   "cell_type": "code",
   "execution_count": 61,
   "id": "2cee8036",
   "metadata": {},
   "outputs": [],
   "source": [
    "# Load Haar cascade XML file for face detection, trained by OpenCV\n",
    "haar = cv2.CascadeClassifier(r\"W:\\MayCooperStation\\New Documents\\Data Science and ML\\FacialRecognition\\data\\haarcascade_frontalface_default.xml\")"
   ]
  },
  {
   "cell_type": "code",
   "execution_count": 62,
   "id": "de1dca6e",
   "metadata": {},
   "outputs": [
    {
     "name": "stdout",
     "output_type": "stream",
     "text": [
      "Model loaded sucessfully\n"
     ]
    }
   ],
   "source": [
    "# Load pickled preprocessing mean\n",
    "mean  = pickle.load(open(r'W:\\MayCooperStation\\New Documents\\Data Science and ML\\FacialRecognition\\data\\model\\mean_preprocess.pickle','rb'))\n",
    "\n",
    "# Load SVM model from pickle file\n",
    "model_svm  = pickle.load(open(r'W:\\MayCooperStation\\New Documents\\Data Science and ML\\FacialRecognition\\data\\model\\model_svm.pickle','rb'))\n",
    "\n",
    "# Load PCA model from pickle file\n",
    "model_pca  = pickle.load(open(r'W:\\MayCooperStation\\New Documents\\Data Science and ML\\FacialRecognition\\data\\model\\pca_50.pickle','rb'))\n",
    "print('Model loaded sucessfully')"
   ]
  },
  {
   "cell_type": "code",
   "execution_count": 63,
   "id": "e08e794e",
   "metadata": {},
   "outputs": [],
   "source": [
    "# Define labels\n",
    "gender_pre = ['Male','Female']\n",
    "\n",
    "# Define font for overlay text\n",
    "font = cv2.FONT_HERSHEY_SIMPLEX\n",
    "\n",
    "# Define path to test data\n",
    "test_data_path = (r\"W:\\MayCooperStation\\New Documents\\Data Science and ML\\FacialRecognition\\data\\crop\\male_crop\\male_8.png\")\n",
    "color = 'bgr'"
   ]
  },
  {
   "cell_type": "code",
   "execution_count": 64,
   "id": "a7c8ddd2",
   "metadata": {},
   "outputs": [],
   "source": [
    "# Read image using OpenCV\n",
    "img = cv2.imread(test_data_path)"
   ]
  },
  {
   "cell_type": "code",
   "execution_count": 65,
   "id": "288a3126",
   "metadata": {},
   "outputs": [],
   "source": [
    "def pipeline_model(img, color='rgb'):\n",
    "    # Convert image to grayscale\n",
    "    if color == 'bgr':\n",
    "        gray = cv2.cvtColor(img,cv2.COLOR_BGR2GRAY)\n",
    "    else:\n",
    "        gray = cv2.cvtColor(img,cv2.COLOR_RGB2GRAY)\n",
    "    # Detect faces in the image using haar cascade classifier\n",
    "    faces = haar.detectMultiScale(gray, scaleFactor=1.1, minNeighbors=5)\n",
    "    for x,y,w,h in faces:\n",
    "        # Draw rectangle around faces\n",
    "        cv2.rectangle(img,(x,y),(x+w,y+h),(0,255,0),2)\n",
    "        # Crop image to face\n",
    "        roi = gray[y:y+h,x:x+w]\n",
    "        # Normalize cropped image\n",
    "        roi = roi / 255.0\n",
    "        # Resize cropped image to (100,100)\n",
    "        if roi.shape[1] > 100:\n",
    "            roi_resize = cv2.resize(roi,(100,100),cv2.INTER_AREA)\n",
    "        else:\n",
    "            roi_resize = cv2.resize(roi,(100,100),cv2.INTER_CUBIC)\n",
    "        # Flatten resized image\n",
    "        roi_reshape = roi_resize.reshape(1,10000)\n",
    "        # Subtract mean\n",
    "        roi_mean = roi_reshape - mean\n",
    "        # Apply PCA to get eigen image\n",
    "        eigen_image = model_pca.transform(roi_mean)\n",
    "        # Use SVM model to predict gender\n",
    "        results = model_svm.predict_proba(eigen_image)[0]\n",
    "        predict = results.argmax() # 0 or 1 \n",
    "        score = results[predict]\n",
    "        # Create overlay text with prediction and score\n",
    "        text = \"%s : %0.2f\"%(gender_pre[predict],score)\n",
    "        cv2.putText(img,text,(x,y),font,1,(0,255,0),2)\n",
    "    return img, eigen_image\n"
   ]
  },
  {
   "cell_type": "code",
   "execution_count": 66,
   "id": "9bddac77",
   "metadata": {},
   "outputs": [
    {
     "data": {
      "image/png": "[encoded data removed]",
      "text/plain": [
       "<Figure size 640x480 with 1 Axes>"
      ]
     },
     "metadata": {},
     "output_type": "display_data"
    }
   ],
   "source": [
    "# Call the function and store the results\n",
    "img, eigen_image = pipeline_model(img)\n",
    "\n",
    "if eigen_image is not None:\n",
    "    # Get inverse of PCA transformation\n",
    "    eig_img = model_pca.inverse_transform(eigen_image)\n",
    "    plt.imshow(eig_img.reshape((100, 100)), cmap='gray')\n",
    "else:\n",
    "    print(\"No faces detected in the image.\")\n"
   ]
  },
  {
   "cell_type": "code",
   "execution_count": null,
   "id": "56c0d267",
   "metadata": {},
   "outputs": [],
   "source": []
  },
  {
   "cell_type": "code",
   "execution_count": null,
   "id": "af88d672",
   "metadata": {},
   "outputs": [],
   "source": []
  }
 ],
 "metadata": {
  "kernelspec": {
   "display_name": "Python 3 (ipykernel)",
   "language": "python",
   "name": "python3"
  },
  "language_info": {
   "codemirror_mode": {
    "name": "ipython",
    "version": 3
   },
   "file_extension": ".py",
   "mimetype": "text/x-python",
   "name": "python",
   "nbconvert_exporter": "python",
   "pygments_lexer": "ipython3",
   "version": "3.11.3"
  }
 },
 "nbformat": 4,
 "nbformat_minor": 5
}
